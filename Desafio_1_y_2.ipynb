{
 "cells": [
  {
   "cell_type": "code",
   "execution_count": 1,
   "id": "364adfe9-5ee5-468f-9360-632487c69d99",
   "metadata": {
    "tags": []
   },
   "outputs": [
    {
     "name": "stdout",
     "output_type": "stream",
     "text": [
      "Collecting Faker\n",
      "  Downloading Faker-24.3.0-py3-none-any.whl.metadata (15 kB)\n",
      "Requirement already satisfied: python-dateutil>=2.4 in /home/ec2-user/anaconda3/envs/python3/lib/python3.10/site-packages (from Faker) (2.8.2)\n",
      "Requirement already satisfied: six>=1.5 in /home/ec2-user/anaconda3/envs/python3/lib/python3.10/site-packages (from python-dateutil>=2.4->Faker) (1.16.0)\n",
      "Downloading Faker-24.3.0-py3-none-any.whl (1.8 MB)\n",
      "\u001b[2K   \u001b[90m━━━━━━━━━━━━━━━━━━━━━━━━━━━━━━━━━━━━━━━━\u001b[0m \u001b[32m1.8/1.8 MB\u001b[0m \u001b[31m9.5 MB/s\u001b[0m eta \u001b[36m0:00:00\u001b[0m:00:01\u001b[0m\n",
      "\u001b[?25hInstalling collected packages: Faker\n",
      "Successfully installed Faker-24.3.0\n",
      "Requirement already satisfied: boto3 in /home/ec2-user/anaconda3/envs/python3/lib/python3.10/site-packages (1.34.55)\n",
      "Requirement already satisfied: botocore<1.35.0,>=1.34.55 in /home/ec2-user/anaconda3/envs/python3/lib/python3.10/site-packages (from boto3) (1.34.55)\n",
      "Requirement already satisfied: jmespath<2.0.0,>=0.7.1 in /home/ec2-user/anaconda3/envs/python3/lib/python3.10/site-packages (from boto3) (1.0.1)\n",
      "Requirement already satisfied: s3transfer<0.11.0,>=0.10.0 in /home/ec2-user/anaconda3/envs/python3/lib/python3.10/site-packages (from boto3) (0.10.0)\n",
      "Requirement already satisfied: python-dateutil<3.0.0,>=2.1 in /home/ec2-user/anaconda3/envs/python3/lib/python3.10/site-packages (from botocore<1.35.0,>=1.34.55->boto3) (2.8.2)\n",
      "Requirement already satisfied: urllib3<2.1,>=1.25.4 in /home/ec2-user/anaconda3/envs/python3/lib/python3.10/site-packages (from botocore<1.35.0,>=1.34.55->boto3) (1.26.18)\n",
      "Requirement already satisfied: six>=1.5 in /home/ec2-user/anaconda3/envs/python3/lib/python3.10/site-packages (from python-dateutil<3.0.0,>=2.1->botocore<1.35.0,>=1.34.55->boto3) (1.16.0)\n",
      "Collecting awswrangler\n",
      "  Downloading awswrangler-3.7.1-py3-none-any.whl.metadata (23 kB)\n",
      "Requirement already satisfied: boto3<2.0.0,>=1.20.32 in /home/ec2-user/anaconda3/envs/python3/lib/python3.10/site-packages (from awswrangler) (1.34.55)\n",
      "Requirement already satisfied: botocore<2.0.0,>=1.23.32 in /home/ec2-user/anaconda3/envs/python3/lib/python3.10/site-packages (from awswrangler) (1.34.55)\n",
      "Requirement already satisfied: numpy<2.0,>=1.18 in /home/ec2-user/anaconda3/envs/python3/lib/python3.10/site-packages (from awswrangler) (1.22.4)\n",
      "Requirement already satisfied: packaging<24.0,>=21.1 in /home/ec2-user/anaconda3/envs/python3/lib/python3.10/site-packages (from awswrangler) (21.3)\n",
      "Requirement already satisfied: pandas<3.0.0,>=1.2.0 in /home/ec2-user/anaconda3/envs/python3/lib/python3.10/site-packages (from awswrangler) (2.2.0)\n",
      "Requirement already satisfied: pyarrow>=8.0.0 in /home/ec2-user/anaconda3/envs/python3/lib/python3.10/site-packages (from awswrangler) (15.0.0)\n",
      "Requirement already satisfied: typing-extensions<5.0.0,>=4.4.0 in /home/ec2-user/anaconda3/envs/python3/lib/python3.10/site-packages (from awswrangler) (4.9.0)\n",
      "Requirement already satisfied: jmespath<2.0.0,>=0.7.1 in /home/ec2-user/anaconda3/envs/python3/lib/python3.10/site-packages (from boto3<2.0.0,>=1.20.32->awswrangler) (1.0.1)\n",
      "Requirement already satisfied: s3transfer<0.11.0,>=0.10.0 in /home/ec2-user/anaconda3/envs/python3/lib/python3.10/site-packages (from boto3<2.0.0,>=1.20.32->awswrangler) (0.10.0)\n",
      "Requirement already satisfied: python-dateutil<3.0.0,>=2.1 in /home/ec2-user/anaconda3/envs/python3/lib/python3.10/site-packages (from botocore<2.0.0,>=1.23.32->awswrangler) (2.8.2)\n",
      "Requirement already satisfied: urllib3<2.1,>=1.25.4 in /home/ec2-user/anaconda3/envs/python3/lib/python3.10/site-packages (from botocore<2.0.0,>=1.23.32->awswrangler) (1.26.18)\n",
      "Requirement already satisfied: pyparsing!=3.0.5,>=2.0.2 in /home/ec2-user/anaconda3/envs/python3/lib/python3.10/site-packages (from packaging<24.0,>=21.1->awswrangler) (3.1.1)\n",
      "Requirement already satisfied: pytz>=2020.1 in /home/ec2-user/anaconda3/envs/python3/lib/python3.10/site-packages (from pandas<3.0.0,>=1.2.0->awswrangler) (2023.4)\n",
      "Requirement already satisfied: tzdata>=2022.7 in /home/ec2-user/anaconda3/envs/python3/lib/python3.10/site-packages (from pandas<3.0.0,>=1.2.0->awswrangler) (2023.4)\n",
      "Requirement already satisfied: six>=1.5 in /home/ec2-user/anaconda3/envs/python3/lib/python3.10/site-packages (from python-dateutil<3.0.0,>=2.1->botocore<2.0.0,>=1.23.32->awswrangler) (1.16.0)\n",
      "Downloading awswrangler-3.7.1-py3-none-any.whl (379 kB)\n",
      "\u001b[2K   \u001b[90m━━━━━━━━━━━━━━━━━━━━━━━━━━━━━━━━━━━━━━━━\u001b[0m \u001b[32m379.9/379.9 kB\u001b[0m \u001b[31m7.8 MB/s\u001b[0m eta \u001b[36m0:00:00\u001b[0m:00:01\u001b[0m\n",
      "\u001b[?25hInstalling collected packages: awswrangler\n",
      "Successfully installed awswrangler-3.7.1\n"
     ]
    }
   ],
   "source": [
    "!pip install Faker\n",
    "!pip install boto3\n",
    "!pip install awswrangler"
   ]
  },
  {
   "cell_type": "markdown",
   "id": "a0442865-c64f-42c7-b846-fceb96f9a2a9",
   "metadata": {},
   "source": [
    "# Desafio #1. Generando de forma automática los datos de: departamentos, puestos de trabajo, y empleados"
   ]
  },
  {
   "cell_type": "code",
   "execution_count": 4,
   "id": "e1f21c2c-4c29-4441-9114-a435516e64c3",
   "metadata": {
    "tags": []
   },
   "outputs": [],
   "source": [
    "from faker import Faker\n",
    "import random\n",
    "import pandas as pd\n",
    "import boto3\n",
    "#import fastparquet as fp\n",
    "from io import BytesIO\n",
    "import awswrangler as wr\n",
    "\n",
    "# Semilla\n",
    "random.seed(42)\n",
    "\n",
    "# Configura el generador Faker con idioma en español\n",
    "fake = Faker('es_ES')\n",
    "\n",
    "# Nombres de departamentos ficticios de Colombia\n",
    "departamentos_colombia = ['Amazonas', 'Antioquia', 'Arauca', 'Atlántico', 'Bolívar', 'Boyacá', 'Caldas', 'Caquetá', 'Casanare', 'Cauca', 'Cesar', 'Chocó', 'Córdoba', 'Cundinamarca', 'Guainía', 'Guaviare', 'Huila', 'La Guajira', 'Magdalena', 'Meta', 'Nariño', 'Norte de Santander', 'Putumayo', 'Quindío', 'Risaralda', 'San Andrés y Providencia', 'Santander', 'Sucre', 'Tolima', 'Valle del Cauca', 'Vaupés', 'Vichada']\n",
    "\n",
    "# Nombres de puestos de trabajo ficticios\n",
    "puestos_trabajo = ['Gerente', 'Asistente', 'Analista', 'Desarrollador', 'Diseñador', 'Contador', 'Ingeniero', 'Vendedor', 'Recepcionista', 'Especialista', 'Coordinador', 'Supervisor', 'Director']\n",
    "\n",
    "# Genera datos de empleados ficticios\n",
    "def generar_empleado():\n",
    "    nombre = fake.name()\n",
    "    departamento = random.choice(departamentos_colombia)\n",
    "    puesto = random.choice(puestos_trabajo)\n",
    "    salario = random.randint(2000000, 10000000)  # Salario aleatorio entre $200,0000 y $10,000,000\n",
    "    email = fake.email()\n",
    "    telefono = fake.phone_number()\n",
    "    direccion = fake.address()\n",
    "    return {\n",
    "        'Nombre': nombre,\n",
    "        'Departamento': departamento,\n",
    "        'Puesto de trabajo': puesto,\n",
    "        'Salario': salario,\n",
    "        'Email': email,\n",
    "        'Telefono': telefono,\n",
    "        'Direccion': direccion\n",
    "    }\n",
    "\n",
    "# Genera una lista de empleados ficticios\n",
    "def generar_empleados(numero_empleados):\n",
    "    \"\"\"\n",
    "    Input:\n",
    "    numero_empleados -> Numero de empleados que se desea generar\n",
    "    \n",
    "    Output:\n",
    "    return -> Lista de diccionarios con el numero de empleados generados con los siguientes atributos:\n",
    "              Nombre, Departamento, Puesto de trabajo, Salario, Email, Teléfono', Dirección\n",
    "    \"\"\"\n",
    "    empleados = []\n",
    "    for _ in range(numero_empleados):\n",
    "        empleados.append(generar_empleado())\n",
    "    return empleados\n",
    "\n",
    "# Generar 10000 empleados ficticios\n",
    "empleados_generados = pd.DataFrame(generar_empleados(10000))\n",
    "empleados_generados.to_csv(\"empleados.csv\")"
   ]
  },
  {
   "cell_type": "markdown",
   "id": "3d99b6e4-6f55-47cc-8173-f6d4940eb63d",
   "metadata": {},
   "source": [
    "# Desafio #2. Guardando los datos simulados en archivos con formato Parquet"
   ]
  },
  {
   "cell_type": "code",
   "execution_count": 10,
   "id": "1ea340e2-494b-458b-b0bb-ce4f1c84e019",
   "metadata": {
    "tags": []
   },
   "outputs": [
    {
     "name": "stdout",
     "output_type": "stream",
     "text": [
      "Los datos de empleados han sido guardados exitosamente en el bucket\n"
     ]
    }
   ],
   "source": [
    "# Creando el cliente de S3\n",
    "s3 = boto3.client('s3')\n",
    "\n",
    "# Nombre del archivo y el nombre del bucket de S3\n",
    "nombre_archivo = 'empleados.parquet'\n",
    "nombre_bucket = 'luis-ds-db'\n",
    "\n",
    "# Convirtiendo el DataFrame a formato Parquet en memoria\n",
    "parquet_buffer = BytesIO()\n",
    "wr.s3.to_parquet(df=empleados_generados, path=f's3://{nombre_bucket}/{nombre_archivo}', index=False)\n",
    "\n",
    "print(\"Los datos de empleados han sido guardados exitosamente en el bucket\")"
   ]
  },
  {
   "cell_type": "code",
   "execution_count": null,
   "id": "de479393-f346-434b-86fc-a1c7f446e608",
   "metadata": {},
   "outputs": [],
   "source": []
  }
 ],
 "metadata": {
  "kernelspec": {
   "display_name": "conda_python3",
   "language": "python",
   "name": "conda_python3"
  },
  "language_info": {
   "codemirror_mode": {
    "name": "ipython",
    "version": 3
   },
   "file_extension": ".py",
   "mimetype": "text/x-python",
   "name": "python",
   "nbconvert_exporter": "python",
   "pygments_lexer": "ipython3",
   "version": "3.10.13"
  }
 },
 "nbformat": 4,
 "nbformat_minor": 5
}
